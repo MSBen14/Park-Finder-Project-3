{
 "cells": [
  {
   "cell_type": "code",
   "execution_count": 1,
   "id": "b4e50bf9",
   "metadata": {},
   "outputs": [],
   "source": [
    "import requests\n",
    "import pandas as pd\n",
    "from config import api_key\n",
    "import json"
   ]
  },
  {
   "cell_type": "markdown",
   "id": "a88c2f5e",
   "metadata": {},
   "source": [
    "# 1- Park Alerts"
   ]
  },
  {
   "cell_type": "code",
   "execution_count": 2,
   "id": "3dc1c09f",
   "metadata": {},
   "outputs": [],
   "source": [
    "#Set the URL of the NPS alerts API and set any required parameters\n",
    "url = \"https://developer.nps.gov/api/v1/alerts\"\n",
    "params = {\n",
    "    \"api_key\": api_key,\n",
    "    #\"limit\": \"50\"\n",
    "}\n"
   ]
  },
  {
   "cell_type": "code",
   "execution_count": 3,
   "id": "569ff6f4",
   "metadata": {
    "scrolled": false
   },
   "outputs": [
    {
     "data": {
      "text/html": [
       "<div>\n",
       "<style scoped>\n",
       "    .dataframe tbody tr th:only-of-type {\n",
       "        vertical-align: middle;\n",
       "    }\n",
       "\n",
       "    .dataframe tbody tr th {\n",
       "        vertical-align: top;\n",
       "    }\n",
       "\n",
       "    .dataframe thead th {\n",
       "        text-align: right;\n",
       "    }\n",
       "</style>\n",
       "<table border=\"1\" class=\"dataframe\">\n",
       "  <thead>\n",
       "    <tr style=\"text-align: right;\">\n",
       "      <th></th>\n",
       "      <th>id</th>\n",
       "      <th>url</th>\n",
       "      <th>title</th>\n",
       "      <th>parkCode</th>\n",
       "      <th>description</th>\n",
       "      <th>category</th>\n",
       "      <th>lastIndexedDate</th>\n",
       "    </tr>\n",
       "  </thead>\n",
       "  <tbody>\n",
       "    <tr>\n",
       "      <th>0</th>\n",
       "      <td>71417482-BB55-4F04-B31A-8F9E7E13D97A</td>\n",
       "      <td></td>\n",
       "      <td>Kolob Canyons Road partially closed</td>\n",
       "      <td>zion</td>\n",
       "      <td>The road is open as far as Taylor Creek Trailh...</td>\n",
       "      <td>Park Closure</td>\n",
       "      <td>2023-04-03 20:50:53.0</td>\n",
       "    </tr>\n",
       "    <tr>\n",
       "      <th>1</th>\n",
       "      <td>002E55C0-2156-43EF-B363-EC5577F3C658</td>\n",
       "      <td></td>\n",
       "      <td>Park Closure due to Winter Weather</td>\n",
       "      <td>badl</td>\n",
       "      <td>Badlands National Park will be closed Tuesday,...</td>\n",
       "      <td>Park Closure</td>\n",
       "      <td>2023-04-03 19:38:44.0</td>\n",
       "    </tr>\n",
       "    <tr>\n",
       "      <th>2</th>\n",
       "      <td>9B0D9FB3-9729-4009-A33D-7B1E0BFDFFBC</td>\n",
       "      <td>https://marine.weather.gov/showsigwx.php?warnz...</td>\n",
       "      <td>Boaters: Gale Warning is in effect until 9 pm ...</td>\n",
       "      <td>pore</td>\n",
       "      <td>The Nat. Weather Serv. has issued a Gale Warni...</td>\n",
       "      <td>Danger</td>\n",
       "      <td>2023-04-03 18:28:14.0</td>\n",
       "    </tr>\n",
       "    <tr>\n",
       "      <th>3</th>\n",
       "      <td>A06A73AB-01EE-45ED-8B00-F9F230CF7D35</td>\n",
       "      <td>https://forecast.weather.gov/MapClick.php?lon=...</td>\n",
       "      <td>Road to Rim Village is Temporarily CLOSED</td>\n",
       "      <td>crla</td>\n",
       "      <td>The road from Park Headquarters to Rim Village...</td>\n",
       "      <td>Park Closure</td>\n",
       "      <td>2023-04-03 17:31:56.0</td>\n",
       "    </tr>\n",
       "    <tr>\n",
       "      <th>4</th>\n",
       "      <td>04C9C7F8-A8B0-4F2A-BC9F-135DC769230B</td>\n",
       "      <td>https://www.sd511.org/#zoom=7.956564110481079&amp;...</td>\n",
       "      <td>Visitor Center Closed and Tours Cancelled - Ap...</td>\n",
       "      <td>wica</td>\n",
       "      <td>The visitor center is closed and tours are can...</td>\n",
       "      <td>Park Closure</td>\n",
       "      <td>2023-04-03 17:28:31.0</td>\n",
       "    </tr>\n",
       "  </tbody>\n",
       "</table>\n",
       "</div>"
      ],
      "text/plain": [
       "                                     id  \\\n",
       "0  71417482-BB55-4F04-B31A-8F9E7E13D97A   \n",
       "1  002E55C0-2156-43EF-B363-EC5577F3C658   \n",
       "2  9B0D9FB3-9729-4009-A33D-7B1E0BFDFFBC   \n",
       "3  A06A73AB-01EE-45ED-8B00-F9F230CF7D35   \n",
       "4  04C9C7F8-A8B0-4F2A-BC9F-135DC769230B   \n",
       "\n",
       "                                                 url  \\\n",
       "0                                                      \n",
       "1                                                      \n",
       "2  https://marine.weather.gov/showsigwx.php?warnz...   \n",
       "3  https://forecast.weather.gov/MapClick.php?lon=...   \n",
       "4  https://www.sd511.org/#zoom=7.956564110481079&...   \n",
       "\n",
       "                                               title parkCode  \\\n",
       "0                Kolob Canyons Road partially closed     zion   \n",
       "1                 Park Closure due to Winter Weather     badl   \n",
       "2  Boaters: Gale Warning is in effect until 9 pm ...     pore   \n",
       "3          Road to Rim Village is Temporarily CLOSED     crla   \n",
       "4  Visitor Center Closed and Tours Cancelled - Ap...     wica   \n",
       "\n",
       "                                         description      category  \\\n",
       "0  The road is open as far as Taylor Creek Trailh...  Park Closure   \n",
       "1  Badlands National Park will be closed Tuesday,...  Park Closure   \n",
       "2  The Nat. Weather Serv. has issued a Gale Warni...        Danger   \n",
       "3  The road from Park Headquarters to Rim Village...  Park Closure   \n",
       "4  The visitor center is closed and tours are can...  Park Closure   \n",
       "\n",
       "         lastIndexedDate  \n",
       "0  2023-04-03 20:50:53.0  \n",
       "1  2023-04-03 19:38:44.0  \n",
       "2  2023-04-03 18:28:14.0  \n",
       "3  2023-04-03 17:31:56.0  \n",
       "4  2023-04-03 17:28:31.0  "
      ]
     },
     "execution_count": 3,
     "metadata": {},
     "output_type": "execute_result"
    }
   ],
   "source": [
    "alerts = []\n",
    "\n",
    "# Retrieve alerts in batches of 50 using pagination\n",
    "while True:\n",
    "    response = requests.get(url, params=params)\n",
    "    data = response.json()  \n",
    "    alert_data = data['data']  \n",
    "    alerts.extend(alert_data)\n",
    "    \n",
    "    if len(alerts) >= int(data['total']):\n",
    "        break\n",
    "    \n",
    "    params['start'] = str(len(alerts))  # Set the start parameter to retrieve the next batch of alerts\n",
    "\n",
    "alerts_df = pd.DataFrame(alerts)\n",
    "\n",
    "# Preview the DataFrame\n",
    "alerts_df.head()\n"
   ]
  },
  {
   "cell_type": "code",
   "execution_count": 4,
   "id": "cb3af28c",
   "metadata": {
    "scrolled": true
   },
   "outputs": [
    {
     "data": {
      "text/plain": [
       "Index(['id', 'url', 'title', 'parkCode', 'description', 'category',\n",
       "       'lastIndexedDate'],\n",
       "      dtype='object')"
      ]
     },
     "execution_count": 4,
     "metadata": {},
     "output_type": "execute_result"
    }
   ],
   "source": [
    "alerts_df.columns"
   ]
  },
  {
   "cell_type": "markdown",
   "id": "71e85d98",
   "metadata": {},
   "source": [
    "# 2- Park "
   ]
  },
  {
   "cell_type": "code",
   "execution_count": 10,
   "id": "cd1fcb8e",
   "metadata": {},
   "outputs": [],
   "source": [
    "url_parks = \"https://developer.nps.gov/api/v1/parks\"\n",
    "params = {\n",
    "    'api_key': api_key\n",
    "#     'limit': '50'\n",
    "}"
   ]
  },
  {
   "cell_type": "code",
   "execution_count": 11,
   "id": "b6d39244",
   "metadata": {
    "scrolled": false
   },
   "outputs": [
    {
     "data": {
      "text/html": [
       "<div>\n",
       "<style scoped>\n",
       "    .dataframe tbody tr th:only-of-type {\n",
       "        vertical-align: middle;\n",
       "    }\n",
       "\n",
       "    .dataframe tbody tr th {\n",
       "        vertical-align: top;\n",
       "    }\n",
       "\n",
       "    .dataframe thead th {\n",
       "        text-align: right;\n",
       "    }\n",
       "</style>\n",
       "<table border=\"1\" class=\"dataframe\">\n",
       "  <thead>\n",
       "    <tr style=\"text-align: right;\">\n",
       "      <th></th>\n",
       "      <th>id</th>\n",
       "      <th>url</th>\n",
       "      <th>fullName</th>\n",
       "      <th>parkCode</th>\n",
       "      <th>description</th>\n",
       "      <th>latitude</th>\n",
       "      <th>longitude</th>\n",
       "      <th>latLong</th>\n",
       "      <th>activities</th>\n",
       "      <th>topics</th>\n",
       "      <th>...</th>\n",
       "      <th>entrancePasses</th>\n",
       "      <th>fees</th>\n",
       "      <th>directionsInfo</th>\n",
       "      <th>directionsUrl</th>\n",
       "      <th>operatingHours</th>\n",
       "      <th>addresses</th>\n",
       "      <th>images</th>\n",
       "      <th>weatherInfo</th>\n",
       "      <th>name</th>\n",
       "      <th>designation</th>\n",
       "    </tr>\n",
       "  </thead>\n",
       "  <tbody>\n",
       "    <tr>\n",
       "      <th>0</th>\n",
       "      <td>77E0D7F0-1942-494A-ACE2-9004D2BDC59E</td>\n",
       "      <td>https://www.nps.gov/abli/index.htm</td>\n",
       "      <td>Abraham Lincoln Birthplace National Historical...</td>\n",
       "      <td>abli</td>\n",
       "      <td>For over a century people from around the worl...</td>\n",
       "      <td>37.5858662</td>\n",
       "      <td>-85.67330523</td>\n",
       "      <td>lat:37.5858662, long:-85.67330523</td>\n",
       "      <td>[{'id': '13A57703-BB1A-41A2-94B8-53B692EB7238'...</td>\n",
       "      <td>[{'id': 'D10852A3-443C-4743-A5FA-6DD6D2A054B3'...</td>\n",
       "      <td>...</td>\n",
       "      <td>[]</td>\n",
       "      <td>[]</td>\n",
       "      <td>The Birthplace Unit of the park is located app...</td>\n",
       "      <td>http://www.nps.gov/abli/planyourvisit/directio...</td>\n",
       "      <td>[{'exceptions': [{'exceptionHours': {}, 'start...</td>\n",
       "      <td>[{'postalCode': '42748', 'city': 'Hodgenville'...</td>\n",
       "      <td>[{'credit': 'NPS Photo', 'title': 'The Memoria...</td>\n",
       "      <td>There are four distinct seasons in Central Ken...</td>\n",
       "      <td>Abraham Lincoln Birthplace</td>\n",
       "      <td>National Historical Park</td>\n",
       "    </tr>\n",
       "    <tr>\n",
       "      <th>1</th>\n",
       "      <td>6DA17C86-088E-4B4D-B862-7C1BD5CF236B</td>\n",
       "      <td>https://www.nps.gov/acad/index.htm</td>\n",
       "      <td>Acadia National Park</td>\n",
       "      <td>acad</td>\n",
       "      <td>Acadia National Park protects the natural beau...</td>\n",
       "      <td>44.409286</td>\n",
       "      <td>-68.247501</td>\n",
       "      <td>lat:44.409286, long:-68.247501</td>\n",
       "      <td>[{'id': '09DF0950-D319-4557-A57E-04CD2F63FF42'...</td>\n",
       "      <td>[{'id': '00F3C3F9-2D67-4802-81AE-CCEA5D3BA370'...</td>\n",
       "      <td>...</td>\n",
       "      <td>[{'cost': '55.00', 'description': 'Valid for 1...</td>\n",
       "      <td>[]</td>\n",
       "      <td>From Boston take I-95 north to Augusta, Maine,...</td>\n",
       "      <td>http://www.nps.gov/acad/planyourvisit/directio...</td>\n",
       "      <td>[{'exceptions': [], 'description': 'Acadia Nat...</td>\n",
       "      <td>[{'postalCode': '04609', 'city': 'Bar Harbor',...</td>\n",
       "      <td>[{'credit': 'NPS / Kristi Rugg', 'title': 'Aca...</td>\n",
       "      <td>Located on Mount Desert Island in Maine, Acadi...</td>\n",
       "      <td>Acadia</td>\n",
       "      <td>National Park</td>\n",
       "    </tr>\n",
       "    <tr>\n",
       "      <th>2</th>\n",
       "      <td>E4C7784E-66A0-4D44-87D0-3E072F5FEF43</td>\n",
       "      <td>https://www.nps.gov/adam/index.htm</td>\n",
       "      <td>Adams National Historical Park</td>\n",
       "      <td>adam</td>\n",
       "      <td>From the sweet little farm at the foot of Penn...</td>\n",
       "      <td>42.2553961</td>\n",
       "      <td>-71.01160356</td>\n",
       "      <td>lat:42.2553961, long:-71.01160356</td>\n",
       "      <td>[{'id': 'B33DC9B6-0B7D-4322-BAD7-A13A34C584A3'...</td>\n",
       "      <td>[{'id': 'F3883A66-A7CB-461B-868E-1B5932224B25'...</td>\n",
       "      <td>...</td>\n",
       "      <td>[]</td>\n",
       "      <td>[]</td>\n",
       "      <td>Traveling on U.S. Interstate 93, take exit 7 -...</td>\n",
       "      <td>http://www.nps.gov/adam/planyourvisit/directio...</td>\n",
       "      <td>[{'exceptions': [], 'description': 'The histor...</td>\n",
       "      <td>[{'postalCode': '02169', 'city': 'Quincy', 'st...</td>\n",
       "      <td>[{'credit': 'NPS Photo', 'title': 'The John an...</td>\n",
       "      <td>Be prepared for hot, humid weather. The histor...</td>\n",
       "      <td>Adams</td>\n",
       "      <td>National Historical Park</td>\n",
       "    </tr>\n",
       "    <tr>\n",
       "      <th>3</th>\n",
       "      <td>1A47416F-DAA3-4137-9F30-14AF86B4E547</td>\n",
       "      <td>https://www.nps.gov/afam/index.htm</td>\n",
       "      <td>African American Civil War Memorial</td>\n",
       "      <td>afam</td>\n",
       "      <td>Over 200,000 African-American soldiers and sai...</td>\n",
       "      <td>38.9166</td>\n",
       "      <td>-77.026</td>\n",
       "      <td>lat:38.9166, long:-77.026</td>\n",
       "      <td>[{'id': 'B33DC9B6-0B7D-4322-BAD7-A13A34C584A3'...</td>\n",
       "      <td>[{'id': '28AEAE85-9DDA-45B6-981B-1CFCDCC61E14'...</td>\n",
       "      <td>...</td>\n",
       "      <td>[{'cost': '0.00', 'description': 'No Passes', ...</td>\n",
       "      <td>[]</td>\n",
       "      <td>The memorial is located at the corner of Vermo...</td>\n",
       "      <td>http://www.nps.gov/afam/planyourvisit/directio...</td>\n",
       "      <td>[{'exceptions': [], 'description': 'The Africa...</td>\n",
       "      <td>[{'postalCode': '20001', 'city': 'Washington',...</td>\n",
       "      <td>[{'credit': 'NPS Photo', 'title': 'African Ame...</td>\n",
       "      <td>Washington DC gets to see all four seasons. Hu...</td>\n",
       "      <td>African American Civil War Memorial</td>\n",
       "      <td></td>\n",
       "    </tr>\n",
       "    <tr>\n",
       "      <th>4</th>\n",
       "      <td>E6E1D22A-7A89-47F8-813C-B611059A8CF9</td>\n",
       "      <td>https://www.nps.gov/afbg/index.htm</td>\n",
       "      <td>African Burial Ground National Monument</td>\n",
       "      <td>afbg</td>\n",
       "      <td>African Burial Ground is the oldest and larges...</td>\n",
       "      <td>40.71452681</td>\n",
       "      <td>-74.00447358</td>\n",
       "      <td>lat:40.71452681, long:-74.00447358</td>\n",
       "      <td>[{'id': '09DF0950-D319-4557-A57E-04CD2F63FF42'...</td>\n",
       "      <td>[{'id': '28AEAE85-9DDA-45B6-981B-1CFCDCC61E14'...</td>\n",
       "      <td>...</td>\n",
       "      <td>[{'cost': '0.00', 'description': 'There are no...</td>\n",
       "      <td>[]</td>\n",
       "      <td>The African Burial Ground National Monument is...</td>\n",
       "      <td>http://www.nps.gov/afbg/planyourvisit/directio...</td>\n",
       "      <td>[{'exceptions': [{'exceptionHours': {'monday':...</td>\n",
       "      <td>[{'postalCode': '10007', 'city': 'New York', '...</td>\n",
       "      <td>[{'credit': 'NPS Photo', 'title': 'African Bur...</td>\n",
       "      <td>http://forecast.weather.gov/MapClick.php?CityN...</td>\n",
       "      <td>African Burial Ground</td>\n",
       "      <td>National Monument</td>\n",
       "    </tr>\n",
       "  </tbody>\n",
       "</table>\n",
       "<p>5 rows × 23 columns</p>\n",
       "</div>"
      ],
      "text/plain": [
       "                                     id                                 url  \\\n",
       "0  77E0D7F0-1942-494A-ACE2-9004D2BDC59E  https://www.nps.gov/abli/index.htm   \n",
       "1  6DA17C86-088E-4B4D-B862-7C1BD5CF236B  https://www.nps.gov/acad/index.htm   \n",
       "2  E4C7784E-66A0-4D44-87D0-3E072F5FEF43  https://www.nps.gov/adam/index.htm   \n",
       "3  1A47416F-DAA3-4137-9F30-14AF86B4E547  https://www.nps.gov/afam/index.htm   \n",
       "4  E6E1D22A-7A89-47F8-813C-B611059A8CF9  https://www.nps.gov/afbg/index.htm   \n",
       "\n",
       "                                            fullName parkCode  \\\n",
       "0  Abraham Lincoln Birthplace National Historical...     abli   \n",
       "1                               Acadia National Park     acad   \n",
       "2                     Adams National Historical Park     adam   \n",
       "3                African American Civil War Memorial     afam   \n",
       "4            African Burial Ground National Monument     afbg   \n",
       "\n",
       "                                         description     latitude  \\\n",
       "0  For over a century people from around the worl...   37.5858662   \n",
       "1  Acadia National Park protects the natural beau...    44.409286   \n",
       "2  From the sweet little farm at the foot of Penn...   42.2553961   \n",
       "3  Over 200,000 African-American soldiers and sai...      38.9166   \n",
       "4  African Burial Ground is the oldest and larges...  40.71452681   \n",
       "\n",
       "      longitude                             latLong  \\\n",
       "0  -85.67330523   lat:37.5858662, long:-85.67330523   \n",
       "1    -68.247501      lat:44.409286, long:-68.247501   \n",
       "2  -71.01160356   lat:42.2553961, long:-71.01160356   \n",
       "3       -77.026           lat:38.9166, long:-77.026   \n",
       "4  -74.00447358  lat:40.71452681, long:-74.00447358   \n",
       "\n",
       "                                          activities  \\\n",
       "0  [{'id': '13A57703-BB1A-41A2-94B8-53B692EB7238'...   \n",
       "1  [{'id': '09DF0950-D319-4557-A57E-04CD2F63FF42'...   \n",
       "2  [{'id': 'B33DC9B6-0B7D-4322-BAD7-A13A34C584A3'...   \n",
       "3  [{'id': 'B33DC9B6-0B7D-4322-BAD7-A13A34C584A3'...   \n",
       "4  [{'id': '09DF0950-D319-4557-A57E-04CD2F63FF42'...   \n",
       "\n",
       "                                              topics  ...  \\\n",
       "0  [{'id': 'D10852A3-443C-4743-A5FA-6DD6D2A054B3'...  ...   \n",
       "1  [{'id': '00F3C3F9-2D67-4802-81AE-CCEA5D3BA370'...  ...   \n",
       "2  [{'id': 'F3883A66-A7CB-461B-868E-1B5932224B25'...  ...   \n",
       "3  [{'id': '28AEAE85-9DDA-45B6-981B-1CFCDCC61E14'...  ...   \n",
       "4  [{'id': '28AEAE85-9DDA-45B6-981B-1CFCDCC61E14'...  ...   \n",
       "\n",
       "                                      entrancePasses fees  \\\n",
       "0                                                 []   []   \n",
       "1  [{'cost': '55.00', 'description': 'Valid for 1...   []   \n",
       "2                                                 []   []   \n",
       "3  [{'cost': '0.00', 'description': 'No Passes', ...   []   \n",
       "4  [{'cost': '0.00', 'description': 'There are no...   []   \n",
       "\n",
       "                                      directionsInfo  \\\n",
       "0  The Birthplace Unit of the park is located app...   \n",
       "1  From Boston take I-95 north to Augusta, Maine,...   \n",
       "2  Traveling on U.S. Interstate 93, take exit 7 -...   \n",
       "3  The memorial is located at the corner of Vermo...   \n",
       "4  The African Burial Ground National Monument is...   \n",
       "\n",
       "                                       directionsUrl  \\\n",
       "0  http://www.nps.gov/abli/planyourvisit/directio...   \n",
       "1  http://www.nps.gov/acad/planyourvisit/directio...   \n",
       "2  http://www.nps.gov/adam/planyourvisit/directio...   \n",
       "3  http://www.nps.gov/afam/planyourvisit/directio...   \n",
       "4  http://www.nps.gov/afbg/planyourvisit/directio...   \n",
       "\n",
       "                                      operatingHours  \\\n",
       "0  [{'exceptions': [{'exceptionHours': {}, 'start...   \n",
       "1  [{'exceptions': [], 'description': 'Acadia Nat...   \n",
       "2  [{'exceptions': [], 'description': 'The histor...   \n",
       "3  [{'exceptions': [], 'description': 'The Africa...   \n",
       "4  [{'exceptions': [{'exceptionHours': {'monday':...   \n",
       "\n",
       "                                           addresses  \\\n",
       "0  [{'postalCode': '42748', 'city': 'Hodgenville'...   \n",
       "1  [{'postalCode': '04609', 'city': 'Bar Harbor',...   \n",
       "2  [{'postalCode': '02169', 'city': 'Quincy', 'st...   \n",
       "3  [{'postalCode': '20001', 'city': 'Washington',...   \n",
       "4  [{'postalCode': '10007', 'city': 'New York', '...   \n",
       "\n",
       "                                              images  \\\n",
       "0  [{'credit': 'NPS Photo', 'title': 'The Memoria...   \n",
       "1  [{'credit': 'NPS / Kristi Rugg', 'title': 'Aca...   \n",
       "2  [{'credit': 'NPS Photo', 'title': 'The John an...   \n",
       "3  [{'credit': 'NPS Photo', 'title': 'African Ame...   \n",
       "4  [{'credit': 'NPS Photo', 'title': 'African Bur...   \n",
       "\n",
       "                                         weatherInfo  \\\n",
       "0  There are four distinct seasons in Central Ken...   \n",
       "1  Located on Mount Desert Island in Maine, Acadi...   \n",
       "2  Be prepared for hot, humid weather. The histor...   \n",
       "3  Washington DC gets to see all four seasons. Hu...   \n",
       "4  http://forecast.weather.gov/MapClick.php?CityN...   \n",
       "\n",
       "                                  name               designation  \n",
       "0           Abraham Lincoln Birthplace  National Historical Park  \n",
       "1                               Acadia             National Park  \n",
       "2                                Adams  National Historical Park  \n",
       "3  African American Civil War Memorial                            \n",
       "4                African Burial Ground         National Monument  \n",
       "\n",
       "[5 rows x 23 columns]"
      ]
     },
     "execution_count": 11,
     "metadata": {},
     "output_type": "execute_result"
    }
   ],
   "source": [
    "parks = []\n",
    "while True:\n",
    "    response = requests.get(url_parks, params=params)\n",
    "    data = response.json()\n",
    "    park_data = data['data']\n",
    "    parks.extend(park_data)\n",
    "    if len(parks) >= int(data['total']):\n",
    "        break\n",
    "    params['start'] = str(len(parks))  # Set the start parameter to retrieve the next batch of parks\n",
    "parks_df = pd.DataFrame(parks)\n",
    "parks_df.head()"
   ]
  },
  {
   "cell_type": "code",
   "execution_count": 12,
   "id": "46ba29cd",
   "metadata": {
    "scrolled": false
   },
   "outputs": [
    {
     "data": {
      "text/plain": [
       "Index(['id', 'url', 'fullName', 'parkCode', 'description', 'latitude',\n",
       "       'longitude', 'latLong', 'activities', 'topics', 'states', 'contacts',\n",
       "       'entranceFees', 'entrancePasses', 'fees', 'directionsInfo',\n",
       "       'directionsUrl', 'operatingHours', 'addresses', 'images', 'weatherInfo',\n",
       "       'name', 'designation'],\n",
       "      dtype='object')"
      ]
     },
     "execution_count": 12,
     "metadata": {},
     "output_type": "execute_result"
    }
   ],
   "source": [
    "parks_df.columns"
   ]
  },
  {
   "cell_type": "markdown",
   "id": "b199c225",
   "metadata": {},
   "source": [
    "# 3- Merge Park & Alert "
   ]
  },
  {
   "cell_type": "code",
   "execution_count": 31,
   "id": "b87436df",
   "metadata": {},
   "outputs": [
    {
     "data": {
      "text/html": [
       "<div>\n",
       "<style scoped>\n",
       "    .dataframe tbody tr th:only-of-type {\n",
       "        vertical-align: middle;\n",
       "    }\n",
       "\n",
       "    .dataframe tbody tr th {\n",
       "        vertical-align: top;\n",
       "    }\n",
       "\n",
       "    .dataframe thead th {\n",
       "        text-align: right;\n",
       "    }\n",
       "</style>\n",
       "<table border=\"1\" class=\"dataframe\">\n",
       "  <thead>\n",
       "    <tr style=\"text-align: right;\">\n",
       "      <th></th>\n",
       "      <th>fullName</th>\n",
       "      <th>parkCode</th>\n",
       "    </tr>\n",
       "  </thead>\n",
       "  <tbody>\n",
       "    <tr>\n",
       "      <th>0</th>\n",
       "      <td>Abraham Lincoln Birthplace National Historical...</td>\n",
       "      <td>abli</td>\n",
       "    </tr>\n",
       "    <tr>\n",
       "      <th>1</th>\n",
       "      <td>Acadia National Park</td>\n",
       "      <td>acad</td>\n",
       "    </tr>\n",
       "    <tr>\n",
       "      <th>2</th>\n",
       "      <td>Adams National Historical Park</td>\n",
       "      <td>adam</td>\n",
       "    </tr>\n",
       "    <tr>\n",
       "      <th>3</th>\n",
       "      <td>African American Civil War Memorial</td>\n",
       "      <td>afam</td>\n",
       "    </tr>\n",
       "    <tr>\n",
       "      <th>4</th>\n",
       "      <td>African Burial Ground National Monument</td>\n",
       "      <td>afbg</td>\n",
       "    </tr>\n",
       "  </tbody>\n",
       "</table>\n",
       "</div>"
      ],
      "text/plain": [
       "                                            fullName parkCode\n",
       "0  Abraham Lincoln Birthplace National Historical...     abli\n",
       "1                               Acadia National Park     acad\n",
       "2                     Adams National Historical Park     adam\n",
       "3                African American Civil War Memorial     afam\n",
       "4            African Burial Ground National Monument     afbg"
      ]
     },
     "execution_count": 31,
     "metadata": {},
     "output_type": "execute_result"
    }
   ],
   "source": [
    "park_col = parks_df.loc[:,['fullName', 'parkCode']]\n",
    "park_col.head()"
   ]
  },
  {
   "cell_type": "code",
   "execution_count": 32,
   "id": "600612dc",
   "metadata": {},
   "outputs": [
    {
     "data": {
      "text/html": [
       "<div>\n",
       "<style scoped>\n",
       "    .dataframe tbody tr th:only-of-type {\n",
       "        vertical-align: middle;\n",
       "    }\n",
       "\n",
       "    .dataframe tbody tr th {\n",
       "        vertical-align: top;\n",
       "    }\n",
       "\n",
       "    .dataframe thead th {\n",
       "        text-align: right;\n",
       "    }\n",
       "</style>\n",
       "<table border=\"1\" class=\"dataframe\">\n",
       "  <thead>\n",
       "    <tr style=\"text-align: right;\">\n",
       "      <th></th>\n",
       "      <th>title</th>\n",
       "      <th>parkCode</th>\n",
       "      <th>description</th>\n",
       "      <th>lastIndexedDate</th>\n",
       "    </tr>\n",
       "  </thead>\n",
       "  <tbody>\n",
       "    <tr>\n",
       "      <th>0</th>\n",
       "      <td>Kolob Canyons Road partially closed</td>\n",
       "      <td>zion</td>\n",
       "      <td>The road is open as far as Taylor Creek Trailh...</td>\n",
       "      <td>2023-04-03 20:50:53.0</td>\n",
       "    </tr>\n",
       "    <tr>\n",
       "      <th>1</th>\n",
       "      <td>Park Closure due to Winter Weather</td>\n",
       "      <td>badl</td>\n",
       "      <td>Badlands National Park will be closed Tuesday,...</td>\n",
       "      <td>2023-04-03 19:38:44.0</td>\n",
       "    </tr>\n",
       "    <tr>\n",
       "      <th>2</th>\n",
       "      <td>Boaters: Gale Warning is in effect until 9 pm ...</td>\n",
       "      <td>pore</td>\n",
       "      <td>The Nat. Weather Serv. has issued a Gale Warni...</td>\n",
       "      <td>2023-04-03 18:28:14.0</td>\n",
       "    </tr>\n",
       "    <tr>\n",
       "      <th>3</th>\n",
       "      <td>Road to Rim Village is Temporarily CLOSED</td>\n",
       "      <td>crla</td>\n",
       "      <td>The road from Park Headquarters to Rim Village...</td>\n",
       "      <td>2023-04-03 17:31:56.0</td>\n",
       "    </tr>\n",
       "    <tr>\n",
       "      <th>4</th>\n",
       "      <td>Visitor Center Closed and Tours Cancelled - Ap...</td>\n",
       "      <td>wica</td>\n",
       "      <td>The visitor center is closed and tours are can...</td>\n",
       "      <td>2023-04-03 17:28:31.0</td>\n",
       "    </tr>\n",
       "  </tbody>\n",
       "</table>\n",
       "</div>"
      ],
      "text/plain": [
       "                                               title parkCode  \\\n",
       "0                Kolob Canyons Road partially closed     zion   \n",
       "1                 Park Closure due to Winter Weather     badl   \n",
       "2  Boaters: Gale Warning is in effect until 9 pm ...     pore   \n",
       "3          Road to Rim Village is Temporarily CLOSED     crla   \n",
       "4  Visitor Center Closed and Tours Cancelled - Ap...     wica   \n",
       "\n",
       "                                         description        lastIndexedDate  \n",
       "0  The road is open as far as Taylor Creek Trailh...  2023-04-03 20:50:53.0  \n",
       "1  Badlands National Park will be closed Tuesday,...  2023-04-03 19:38:44.0  \n",
       "2  The Nat. Weather Serv. has issued a Gale Warni...  2023-04-03 18:28:14.0  \n",
       "3  The road from Park Headquarters to Rim Village...  2023-04-03 17:31:56.0  \n",
       "4  The visitor center is closed and tours are can...  2023-04-03 17:28:31.0  "
      ]
     },
     "execution_count": 32,
     "metadata": {},
     "output_type": "execute_result"
    }
   ],
   "source": [
    "alerts_col = alerts_df.loc[:,['title', 'parkCode', 'description', 'lastIndexedDate']]\n",
    "alerts_col.head()"
   ]
  },
  {
   "cell_type": "code",
   "execution_count": 33,
   "id": "c6a67d9a",
   "metadata": {},
   "outputs": [
    {
     "data": {
      "text/html": [
       "<div>\n",
       "<style scoped>\n",
       "    .dataframe tbody tr th:only-of-type {\n",
       "        vertical-align: middle;\n",
       "    }\n",
       "\n",
       "    .dataframe tbody tr th {\n",
       "        vertical-align: top;\n",
       "    }\n",
       "\n",
       "    .dataframe thead th {\n",
       "        text-align: right;\n",
       "    }\n",
       "</style>\n",
       "<table border=\"1\" class=\"dataframe\">\n",
       "  <thead>\n",
       "    <tr style=\"text-align: right;\">\n",
       "      <th></th>\n",
       "      <th>title</th>\n",
       "      <th>parkCode</th>\n",
       "      <th>description</th>\n",
       "      <th>lastIndexedDate</th>\n",
       "      <th>fullName</th>\n",
       "    </tr>\n",
       "  </thead>\n",
       "  <tbody>\n",
       "    <tr>\n",
       "      <th>0</th>\n",
       "      <td>Kolob Canyons Road partially closed</td>\n",
       "      <td>zion</td>\n",
       "      <td>The road is open as far as Taylor Creek Trailh...</td>\n",
       "      <td>2023-04-03 20:50:53.0</td>\n",
       "      <td>Zion National Park</td>\n",
       "    </tr>\n",
       "    <tr>\n",
       "      <th>1</th>\n",
       "      <td>Avoid flash floods</td>\n",
       "      <td>zion</td>\n",
       "      <td>Flash floods are a sudden increase in the dept...</td>\n",
       "      <td>2023-03-31 11:48:48.0</td>\n",
       "      <td>Zion National Park</td>\n",
       "    </tr>\n",
       "    <tr>\n",
       "      <th>2</th>\n",
       "      <td>Avalanche risk for oversnow visitors on Kolob ...</td>\n",
       "      <td>zion</td>\n",
       "      <td>Oversnow visitors such as snowshoers or skiers...</td>\n",
       "      <td>2023-03-22 17:45:55.0</td>\n",
       "      <td>Zion National Park</td>\n",
       "    </tr>\n",
       "    <tr>\n",
       "      <th>3</th>\n",
       "      <td>Toxic Cyanobacteria in the Virgin River and th...</td>\n",
       "      <td>zion</td>\n",
       "      <td>Do not submerge your head in or filter drinkin...</td>\n",
       "      <td>2023-03-15 20:31:23.0</td>\n",
       "      <td>Zion National Park</td>\n",
       "    </tr>\n",
       "    <tr>\n",
       "      <th>4</th>\n",
       "      <td>Narrows closed to hiking and canyoneering</td>\n",
       "      <td>zion</td>\n",
       "      <td>The Narrows and all routes that exit through i...</td>\n",
       "      <td>2023-03-15 20:30:37.0</td>\n",
       "      <td>Zion National Park</td>\n",
       "    </tr>\n",
       "  </tbody>\n",
       "</table>\n",
       "</div>"
      ],
      "text/plain": [
       "                                               title parkCode  \\\n",
       "0                Kolob Canyons Road partially closed     zion   \n",
       "1                                 Avoid flash floods     zion   \n",
       "2  Avalanche risk for oversnow visitors on Kolob ...     zion   \n",
       "3  Toxic Cyanobacteria in the Virgin River and th...     zion   \n",
       "4          Narrows closed to hiking and canyoneering     zion   \n",
       "\n",
       "                                         description        lastIndexedDate  \\\n",
       "0  The road is open as far as Taylor Creek Trailh...  2023-04-03 20:50:53.0   \n",
       "1  Flash floods are a sudden increase in the dept...  2023-03-31 11:48:48.0   \n",
       "2  Oversnow visitors such as snowshoers or skiers...  2023-03-22 17:45:55.0   \n",
       "3  Do not submerge your head in or filter drinkin...  2023-03-15 20:31:23.0   \n",
       "4  The Narrows and all routes that exit through i...  2023-03-15 20:30:37.0   \n",
       "\n",
       "             fullName  \n",
       "0  Zion National Park  \n",
       "1  Zion National Park  \n",
       "2  Zion National Park  \n",
       "3  Zion National Park  \n",
       "4  Zion National Park  "
      ]
     },
     "execution_count": 33,
     "metadata": {},
     "output_type": "execute_result"
    }
   ],
   "source": [
    "park_alert_merge = pd.merge(alerts_col, park_col, on=['parkCode'])\n",
    "park_alert_merge.head()"
   ]
  },
  {
   "cell_type": "code",
   "execution_count": 35,
   "id": "f7d71355",
   "metadata": {},
   "outputs": [
    {
     "data": {
      "text/html": [
       "<div>\n",
       "<style scoped>\n",
       "    .dataframe tbody tr th:only-of-type {\n",
       "        vertical-align: middle;\n",
       "    }\n",
       "\n",
       "    .dataframe tbody tr th {\n",
       "        vertical-align: top;\n",
       "    }\n",
       "\n",
       "    .dataframe thead th {\n",
       "        text-align: right;\n",
       "    }\n",
       "</style>\n",
       "<table border=\"1\" class=\"dataframe\">\n",
       "  <thead>\n",
       "    <tr style=\"text-align: right;\">\n",
       "      <th></th>\n",
       "      <th>Alert</th>\n",
       "      <th>parkCode</th>\n",
       "      <th>Description</th>\n",
       "      <th>Date</th>\n",
       "      <th>Park Name</th>\n",
       "    </tr>\n",
       "  </thead>\n",
       "  <tbody>\n",
       "    <tr>\n",
       "      <th>0</th>\n",
       "      <td>Kolob Canyons Road partially closed</td>\n",
       "      <td>zion</td>\n",
       "      <td>The road is open as far as Taylor Creek Trailh...</td>\n",
       "      <td>2023-04-03 20:50:53.0</td>\n",
       "      <td>Zion National Park</td>\n",
       "    </tr>\n",
       "    <tr>\n",
       "      <th>1</th>\n",
       "      <td>Avoid flash floods</td>\n",
       "      <td>zion</td>\n",
       "      <td>Flash floods are a sudden increase in the dept...</td>\n",
       "      <td>2023-03-31 11:48:48.0</td>\n",
       "      <td>Zion National Park</td>\n",
       "    </tr>\n",
       "    <tr>\n",
       "      <th>2</th>\n",
       "      <td>Avalanche risk for oversnow visitors on Kolob ...</td>\n",
       "      <td>zion</td>\n",
       "      <td>Oversnow visitors such as snowshoers or skiers...</td>\n",
       "      <td>2023-03-22 17:45:55.0</td>\n",
       "      <td>Zion National Park</td>\n",
       "    </tr>\n",
       "    <tr>\n",
       "      <th>3</th>\n",
       "      <td>Toxic Cyanobacteria in the Virgin River and th...</td>\n",
       "      <td>zion</td>\n",
       "      <td>Do not submerge your head in or filter drinkin...</td>\n",
       "      <td>2023-03-15 20:31:23.0</td>\n",
       "      <td>Zion National Park</td>\n",
       "    </tr>\n",
       "    <tr>\n",
       "      <th>4</th>\n",
       "      <td>Narrows closed to hiking and canyoneering</td>\n",
       "      <td>zion</td>\n",
       "      <td>The Narrows and all routes that exit through i...</td>\n",
       "      <td>2023-03-15 20:30:37.0</td>\n",
       "      <td>Zion National Park</td>\n",
       "    </tr>\n",
       "  </tbody>\n",
       "</table>\n",
       "</div>"
      ],
      "text/plain": [
       "                                               Alert parkCode  \\\n",
       "0                Kolob Canyons Road partially closed     zion   \n",
       "1                                 Avoid flash floods     zion   \n",
       "2  Avalanche risk for oversnow visitors on Kolob ...     zion   \n",
       "3  Toxic Cyanobacteria in the Virgin River and th...     zion   \n",
       "4          Narrows closed to hiking and canyoneering     zion   \n",
       "\n",
       "                                         Description                   Date  \\\n",
       "0  The road is open as far as Taylor Creek Trailh...  2023-04-03 20:50:53.0   \n",
       "1  Flash floods are a sudden increase in the dept...  2023-03-31 11:48:48.0   \n",
       "2  Oversnow visitors such as snowshoers or skiers...  2023-03-22 17:45:55.0   \n",
       "3  Do not submerge your head in or filter drinkin...  2023-03-15 20:31:23.0   \n",
       "4  The Narrows and all routes that exit through i...  2023-03-15 20:30:37.0   \n",
       "\n",
       "            Park Name  \n",
       "0  Zion National Park  \n",
       "1  Zion National Park  \n",
       "2  Zion National Park  \n",
       "3  Zion National Park  \n",
       "4  Zion National Park  "
      ]
     },
     "execution_count": 35,
     "metadata": {},
     "output_type": "execute_result"
    }
   ],
   "source": [
    "park_alert_merge.rename(columns={'title': 'Alert', 'description': 'Description', 'lastIndexedDate': 'Date', 'fullName': 'Park Name'}, inplace=True)\n",
    "park_alert_merge.head()"
   ]
  },
  {
   "cell_type": "code",
   "execution_count": 36,
   "id": "f6fea647",
   "metadata": {},
   "outputs": [],
   "source": [
    "park_alert_merge.to_csv(\"alerts_df.csv\", index=False,encoding=\"utf-8\")"
   ]
  },
  {
   "cell_type": "code",
   "execution_count": 37,
   "id": "b3cf926a",
   "metadata": {},
   "outputs": [],
   "source": [
    "parks_rev_df = parks_df.copy()"
   ]
  },
  {
   "cell_type": "code",
   "execution_count": 38,
   "id": "47a4ebf3",
   "metadata": {
    "scrolled": true
   },
   "outputs": [
    {
     "data": {
      "text/html": [
       "<div>\n",
       "<style scoped>\n",
       "    .dataframe tbody tr th:only-of-type {\n",
       "        vertical-align: middle;\n",
       "    }\n",
       "\n",
       "    .dataframe tbody tr th {\n",
       "        vertical-align: top;\n",
       "    }\n",
       "\n",
       "    .dataframe thead th {\n",
       "        text-align: right;\n",
       "    }\n",
       "</style>\n",
       "<table border=\"1\" class=\"dataframe\">\n",
       "  <thead>\n",
       "    <tr style=\"text-align: right;\">\n",
       "      <th></th>\n",
       "      <th>fullName</th>\n",
       "      <th>parkCode</th>\n",
       "      <th>description</th>\n",
       "      <th>entranceFees</th>\n",
       "      <th>directionsInfo</th>\n",
       "      <th>operatingHours</th>\n",
       "      <th>addresses</th>\n",
       "    </tr>\n",
       "  </thead>\n",
       "  <tbody>\n",
       "    <tr>\n",
       "      <th>0</th>\n",
       "      <td>Abraham Lincoln Birthplace National Historical...</td>\n",
       "      <td>abli</td>\n",
       "      <td>For over a century people from around the worl...</td>\n",
       "      <td>[{'cost': '0.00', 'description': 'There is no ...</td>\n",
       "      <td>The Birthplace Unit of the park is located app...</td>\n",
       "      <td>[{'exceptions': [{'exceptionHours': {}, 'start...</td>\n",
       "      <td>[{'postalCode': '42748', 'city': 'Hodgenville'...</td>\n",
       "    </tr>\n",
       "    <tr>\n",
       "      <th>1</th>\n",
       "      <td>Acadia National Park</td>\n",
       "      <td>acad</td>\n",
       "      <td>Acadia National Park protects the natural beau...</td>\n",
       "      <td>[{'cost': '35.00', 'description': 'Admits priv...</td>\n",
       "      <td>From Boston take I-95 north to Augusta, Maine,...</td>\n",
       "      <td>[{'exceptions': [], 'description': 'Acadia Nat...</td>\n",
       "      <td>[{'postalCode': '04609', 'city': 'Bar Harbor',...</td>\n",
       "    </tr>\n",
       "    <tr>\n",
       "      <th>2</th>\n",
       "      <td>Adams National Historical Park</td>\n",
       "      <td>adam</td>\n",
       "      <td>From the sweet little farm at the foot of Penn...</td>\n",
       "      <td>[{'cost': '15.00', 'description': 'Individual ...</td>\n",
       "      <td>Traveling on U.S. Interstate 93, take exit 7 -...</td>\n",
       "      <td>[{'exceptions': [], 'description': 'The histor...</td>\n",
       "      <td>[{'postalCode': '02169', 'city': 'Quincy', 'st...</td>\n",
       "    </tr>\n",
       "    <tr>\n",
       "      <th>3</th>\n",
       "      <td>African American Civil War Memorial</td>\n",
       "      <td>afam</td>\n",
       "      <td>Over 200,000 African-American soldiers and sai...</td>\n",
       "      <td>[{'cost': '0.00', 'description': 'No Entrance ...</td>\n",
       "      <td>The memorial is located at the corner of Vermo...</td>\n",
       "      <td>[{'exceptions': [], 'description': 'The Africa...</td>\n",
       "      <td>[{'postalCode': '20001', 'city': 'Washington',...</td>\n",
       "    </tr>\n",
       "    <tr>\n",
       "      <th>4</th>\n",
       "      <td>African Burial Ground National Monument</td>\n",
       "      <td>afbg</td>\n",
       "      <td>African Burial Ground is the oldest and larges...</td>\n",
       "      <td>[{'cost': '0.00', 'description': 'Admission to...</td>\n",
       "      <td>The African Burial Ground National Monument is...</td>\n",
       "      <td>[{'exceptions': [{'exceptionHours': {'monday':...</td>\n",
       "      <td>[{'postalCode': '10007', 'city': 'New York', '...</td>\n",
       "    </tr>\n",
       "  </tbody>\n",
       "</table>\n",
       "</div>"
      ],
      "text/plain": [
       "                                            fullName parkCode  \\\n",
       "0  Abraham Lincoln Birthplace National Historical...     abli   \n",
       "1                               Acadia National Park     acad   \n",
       "2                     Adams National Historical Park     adam   \n",
       "3                African American Civil War Memorial     afam   \n",
       "4            African Burial Ground National Monument     afbg   \n",
       "\n",
       "                                         description  \\\n",
       "0  For over a century people from around the worl...   \n",
       "1  Acadia National Park protects the natural beau...   \n",
       "2  From the sweet little farm at the foot of Penn...   \n",
       "3  Over 200,000 African-American soldiers and sai...   \n",
       "4  African Burial Ground is the oldest and larges...   \n",
       "\n",
       "                                        entranceFees  \\\n",
       "0  [{'cost': '0.00', 'description': 'There is no ...   \n",
       "1  [{'cost': '35.00', 'description': 'Admits priv...   \n",
       "2  [{'cost': '15.00', 'description': 'Individual ...   \n",
       "3  [{'cost': '0.00', 'description': 'No Entrance ...   \n",
       "4  [{'cost': '0.00', 'description': 'Admission to...   \n",
       "\n",
       "                                      directionsInfo  \\\n",
       "0  The Birthplace Unit of the park is located app...   \n",
       "1  From Boston take I-95 north to Augusta, Maine,...   \n",
       "2  Traveling on U.S. Interstate 93, take exit 7 -...   \n",
       "3  The memorial is located at the corner of Vermo...   \n",
       "4  The African Burial Ground National Monument is...   \n",
       "\n",
       "                                      operatingHours  \\\n",
       "0  [{'exceptions': [{'exceptionHours': {}, 'start...   \n",
       "1  [{'exceptions': [], 'description': 'Acadia Nat...   \n",
       "2  [{'exceptions': [], 'description': 'The histor...   \n",
       "3  [{'exceptions': [], 'description': 'The Africa...   \n",
       "4  [{'exceptions': [{'exceptionHours': {'monday':...   \n",
       "\n",
       "                                           addresses  \n",
       "0  [{'postalCode': '42748', 'city': 'Hodgenville'...  \n",
       "1  [{'postalCode': '04609', 'city': 'Bar Harbor',...  \n",
       "2  [{'postalCode': '02169', 'city': 'Quincy', 'st...  \n",
       "3  [{'postalCode': '20001', 'city': 'Washington',...  \n",
       "4  [{'postalCode': '10007', 'city': 'New York', '...  "
      ]
     },
     "execution_count": 38,
     "metadata": {},
     "output_type": "execute_result"
    }
   ],
   "source": [
    "parks_rev_df.drop(['id', 'url', 'latitude', 'longitude', 'latLong', 'activities', 'topics', 'states', 'contacts', 'entrancePasses', 'fees', 'directionsUrl', 'images', 'weatherInfo',\n",
    "       'name', 'designation'], axis=1, inplace=True)\n",
    "parks_rev_df.head()"
   ]
  },
  {
   "cell_type": "code",
   "execution_count": 43,
   "id": "579298bc",
   "metadata": {},
   "outputs": [
    {
     "data": {
      "text/plain": [
       "0    [{'cost': '0.00', 'description': 'There is no ...\n",
       "1    [{'cost': '35.00', 'description': 'Admits priv...\n",
       "2    [{'cost': '15.00', 'description': 'Individual ...\n",
       "3    [{'cost': '0.00', 'description': 'No Entrance ...\n",
       "4    [{'cost': '0.00', 'description': 'Admission to...\n",
       "Name: entranceFees, dtype: object"
      ]
     },
     "execution_count": 43,
     "metadata": {},
     "output_type": "execute_result"
    }
   ],
   "source": [
    "fees_df = parks_rev_df.iloc[:,3]\n",
    "fees_df.head()"
   ]
  },
  {
   "cell_type": "code",
   "execution_count": 46,
   "id": "808e6e70",
   "metadata": {},
   "outputs": [],
   "source": [
    "# fees2_df = pd.DataFrame(list(fees_df[:,0]))\n",
    "# fees2_df.head()"
   ]
  },
  {
   "cell_type": "code",
   "execution_count": 27,
   "id": "2200b3d8",
   "metadata": {},
   "outputs": [],
   "source": [
    "parks_rev_df.rename(columns={'fullName': 'Park Name', 'description': 'Description', 'addresses': 'Address', 'directionsInfo': 'Directions', 'operatingHours': 'Operating Hours', 'entranceFees': 'Entrance Fees'}, inplace=True)"
   ]
  },
  {
   "cell_type": "code",
   "execution_count": 28,
   "id": "60602ea6",
   "metadata": {},
   "outputs": [],
   "source": [
    "parks_rev_df.to_csv(\"parks_df.csv\", index=False,encoding=\"utf-8\")"
   ]
  },
  {
   "cell_type": "code",
   "execution_count": null,
   "id": "55644592",
   "metadata": {},
   "outputs": [],
   "source": []
  },
  {
   "cell_type": "code",
   "execution_count": null,
   "id": "0f0ca271",
   "metadata": {},
   "outputs": [],
   "source": []
  },
  {
   "cell_type": "markdown",
   "id": "85597d98",
   "metadata": {},
   "source": [
    "# 2- Campground "
   ]
  },
  {
   "cell_type": "code",
   "execution_count": null,
   "id": "85da92ac",
   "metadata": {},
   "outputs": [],
   "source": [
    "url_campgrounds = \"https://developer.nps.gov/api/v1/campgrounds\"\n",
    "params = {\n",
    "    'api_key': api_key\n",
    "#     'limit': '50'\n",
    "}"
   ]
  },
  {
   "cell_type": "code",
   "execution_count": null,
   "id": "fa0fbcd2",
   "metadata": {},
   "outputs": [],
   "source": [
    "campgrounds = []\n",
    "while True:\n",
    "    response = requests.get(url_campgrounds, params=params)\n",
    "    data = response.json()\n",
    "    campground_data = data['data']\n",
    "    campgrounds.extend(campground_data)\n",
    "    if len(campgrounds) >= int(data['total']):\n",
    "        break\n",
    "    params['start'] = str(len(campgrounds))  # Set the start parameter to retrieve the next batch of campgrounds"
   ]
  },
  {
   "cell_type": "code",
   "execution_count": null,
   "id": "30f0223c",
   "metadata": {},
   "outputs": [],
   "source": [
    "campgrounds_df = pd.DataFrame(parks)\n",
    "campgrounds_df.head()"
   ]
  },
  {
   "cell_type": "code",
   "execution_count": null,
   "id": "5db7d99a",
   "metadata": {},
   "outputs": [],
   "source": [
    "campgrounds_df.columns"
   ]
  },
  {
   "cell_type": "code",
   "execution_count": null,
   "id": "d2bcfd55",
   "metadata": {},
   "outputs": [],
   "source": [
    "campgrounds_df = pd.DataFrame(campgrounds)\n",
    "campgrounds_df.head()"
   ]
  },
  {
   "cell_type": "markdown",
   "id": "04d48b47",
   "metadata": {},
   "source": [
    "# Used 3 parks (Alerta,Parks,and Visitor center)"
   ]
  },
  {
   "cell_type": "code",
   "execution_count": null,
   "id": "6fd8e9e5",
   "metadata": {},
   "outputs": [],
   "source": [
    "# Remove unecessary columns from the DataFrame and save the new DataFrame \n",
    "cleaned_alerts_df = alerts_df[['parkCode','title','category','description','url']]\n",
    "cleaned_parks_df = parks_df[['fullName','parkCode','states','latitude','longitude', 'directionsInfo','operatingHours', 'addresses']]\n",
    "cleaned_campgrounds_df=campgrounds_df[['parkCode','name','latitude','longitude']]"
   ]
  },
  {
   "cell_type": "code",
   "execution_count": null,
   "id": "98882fc6",
   "metadata": {},
   "outputs": [],
   "source": [
    "cleaned_campgrounds_df=cleaned_campgrounds_df.rename(columns={'latitude': 'lat_camp', 'longitude': 'lon_camp'})\n",
    "cleaned_campgrounds_df.head()"
   ]
  },
  {
   "cell_type": "markdown",
   "id": "ac189939",
   "metadata": {},
   "source": [
    "# Merge "
   ]
  },
  {
   "cell_type": "code",
   "execution_count": null,
   "id": "a0b01f2f",
   "metadata": {},
   "outputs": [],
   "source": [
    "# merge cleaned_alerts_df and cleaned_parks_df on parkCode\n",
    "merged_df = pd.merge(cleaned_alerts_df, cleaned_parks_df, on='parkCode', how='inner')\n",
    "merged_df.shape"
   ]
  },
  {
   "cell_type": "code",
   "execution_count": null,
   "id": "4b6eb665",
   "metadata": {},
   "outputs": [],
   "source": [
    "merged_df.head()"
   ]
  },
  {
   "cell_type": "code",
   "execution_count": null,
   "id": "c8f5da61",
   "metadata": {},
   "outputs": [],
   "source": [
    "# merge merged_df and cleand_visitor_centers_df on parkCode\n",
    "merged_df = pd.merge(merged_df, cleaned_campgrounds_df, on='parkCode', how='inner')\n",
    "merged_df.head()"
   ]
  },
  {
   "cell_type": "code",
   "execution_count": null,
   "id": "9a1f4a68",
   "metadata": {
    "scrolled": true
   },
   "outputs": [],
   "source": [
    "merged_df.shape"
   ]
  },
  {
   "cell_type": "code",
   "execution_count": null,
   "id": "771f25cb",
   "metadata": {},
   "outputs": [],
   "source": [
    "# check for NA values in merged_df\n",
    "if merged_df.isna().any().any():\n",
    "    print(\"There are NA values in the merged dataframe\")\n",
    "else:\n",
    "    print(\"There are no NA values in the merged dataframe\")\n"
   ]
  },
  {
   "cell_type": "code",
   "execution_count": null,
   "id": "59c163c6",
   "metadata": {},
   "outputs": [],
   "source": [
    "merged_df.columns"
   ]
  },
  {
   "cell_type": "code",
   "execution_count": null,
   "id": "b5c74af5",
   "metadata": {},
   "outputs": [],
   "source": [
    "# Define the column order you want\n",
    "column_order = ['parkCode', 'fullName', 'states', 'latitude', 'longitude', \n",
    "                'directionsInfo', 'operatingHours',\n",
    "                'title', 'category', 'description', 'url', \n",
    "                'addresses', 'name', 'lat_camp', 'lon_camp']\n",
    "\n",
    "# Create a new DataFrame with the columns in the desired order\n",
    "merged_df = merged_df[column_order]\n"
   ]
  },
  {
   "cell_type": "markdown",
   "id": "8ff1f728",
   "metadata": {},
   "source": [
    "# Final Merged DF"
   ]
  },
  {
   "cell_type": "code",
   "execution_count": null,
   "id": "fc326f53",
   "metadata": {
    "scrolled": true
   },
   "outputs": [],
   "source": [
    "merged_df.head()"
   ]
  },
  {
   "cell_type": "markdown",
   "id": "d4f7da8d",
   "metadata": {},
   "source": [
    "# convert to csv"
   ]
  },
  {
   "cell_type": "code",
   "execution_count": null,
   "id": "1965e346",
   "metadata": {},
   "outputs": [],
   "source": [
    "merged_df.to_csv(\"merged_df.csv\", index=False,encoding=\"utf-8\")"
   ]
  },
  {
   "cell_type": "markdown",
   "id": "dc93f7eb",
   "metadata": {},
   "source": [
    "# check the data type"
   ]
  },
  {
   "cell_type": "code",
   "execution_count": null,
   "id": "058de1b5",
   "metadata": {
    "scrolled": false
   },
   "outputs": [],
   "source": [
    "print(merged_df.dtypes)"
   ]
  },
  {
   "cell_type": "code",
   "execution_count": null,
   "id": "688f24c9",
   "metadata": {},
   "outputs": [],
   "source": [
    "for col in merged_df.columns:\n",
    "    print(col, type(merged_df[col][0]))"
   ]
  },
  {
   "cell_type": "code",
   "execution_count": null,
   "id": "d4b1eb58",
   "metadata": {},
   "outputs": [],
   "source": [
    "import sqlalchemy as sql\n",
    "#engine=sqlalchemy.create_engine('sqlite:///data/db.sqlite')\n",
    "engine = sql.create_engine('sqlite:///data/db.sqlite')\n",
    "\n",
    "table_name = 'Parks' # replace with your own table name"
   ]
  },
  {
   "cell_type": "code",
   "execution_count": null,
   "id": "dfb452c3",
   "metadata": {},
   "outputs": [],
   "source": [
    "# Convert the Operating Hours column to a string representation\n",
    "merged_df['operatingHours'] = merged_df['operatingHours'].apply(json.dumps)\n",
    "\n",
    "# Convert the Addresses column to a string representation\n",
    "merged_df['addresses'] = merged_df['addresses'].apply(json.dumps)"
   ]
  },
  {
   "cell_type": "code",
   "execution_count": null,
   "id": "4e030084",
   "metadata": {},
   "outputs": [],
   "source": [
    "# Convert any non-UTF-8 encoded data in your DataFrame to UTF-8\n",
    "merged_df = merged_df.apply(lambda x: x.encode('utf-8').decode('utf-8', 'ignore') if isinstance(x, str) else x)\n",
    "\n",
    "merged_df.to_sql('Parks', con=engine, if_exists='replace')"
   ]
  },
  {
   "cell_type": "code",
   "execution_count": null,
   "id": "7cacbabf",
   "metadata": {},
   "outputs": [],
   "source": [
    "results=engine.execute('select * from Parks').all()"
   ]
  },
  {
   "cell_type": "code",
   "execution_count": null,
   "id": "535abcd6",
   "metadata": {},
   "outputs": [],
   "source": [
    "results"
   ]
  },
  {
   "cell_type": "code",
   "execution_count": null,
   "id": "90b8e3ab",
   "metadata": {},
   "outputs": [],
   "source": [
    "for col in results[0]:\n",
    "    print(type(col))\n"
   ]
  },
  {
   "cell_type": "code",
   "execution_count": null,
   "id": "bba96ac2",
   "metadata": {},
   "outputs": [],
   "source": []
  }
 ],
 "metadata": {
  "kernelspec": {
   "display_name": "Python 3 (ipykernel)",
   "language": "python",
   "name": "python3"
  },
  "language_info": {
   "codemirror_mode": {
    "name": "ipython",
    "version": 3
   },
   "file_extension": ".py",
   "mimetype": "text/x-python",
   "name": "python",
   "nbconvert_exporter": "python",
   "pygments_lexer": "ipython3",
   "version": "3.9.12"
  }
 },
 "nbformat": 4,
 "nbformat_minor": 5
}
